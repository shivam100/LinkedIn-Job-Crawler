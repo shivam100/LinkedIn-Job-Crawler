{
 "cells": [
  {
   "cell_type": "code",
   "execution_count": 2,
   "id": "2630e062-5fbd-44fe-977b-27abf32c04d9",
   "metadata": {},
   "outputs": [],
   "source": [
    "from selenium import webdriver\n",
    "from selenium.webdriver.common.by import By\n",
    "from selenium.common.exceptions import NoSuchElementException\n",
    "from bs4 import BeautifulSoup\n",
    "import time\n",
    "import yaml\n",
    "from selenium import webdriver\n",
    "from bs4 import BeautifulSoup\n",
    "import time\n",
    "from tqdm import tqdm\n",
    "import pandas as pd\n",
    "import traceback"
   ]
  },
  {
   "cell_type": "code",
   "execution_count": 3,
   "id": "3f203ada-c6d1-41ff-aa91-1fe89eb4f1da",
   "metadata": {},
   "outputs": [],
   "source": [
    "options = webdriver.ChromeOptions()\n",
    "options.add_experimental_option('excludeSwitches', ['enable-logging'])\n",
    "driver = webdriver.Chrome(options=options)"
   ]
  },
  {
   "cell_type": "code",
   "execution_count": 4,
   "id": "c06b0a33-9d9d-40a1-ac3c-3c72e5b66253",
   "metadata": {},
   "outputs": [],
   "source": [
    "with open('config.yaml') as f:\n",
    "    var = yaml.safe_load(f)"
   ]
  },
  {
   "cell_type": "code",
   "execution_count": 5,
   "id": "f758470d-bba2-44d3-b719-1d1c737c392d",
   "metadata": {},
   "outputs": [],
   "source": [
    "driver.get(\"https://linkedin.com/uas/login\")"
   ]
  },
  {
   "cell_type": "code",
   "execution_count": 6,
   "id": "eb09eac8-1f18-4206-8954-d08aa080ffc0",
   "metadata": {},
   "outputs": [],
   "source": [
    "driver.find_element(\"xpath\", '//*[@id=\"username\"]').send_keys(var['username'])\n",
    "driver.find_element(\"xpath\", '//*[@id=\"password\"]').send_keys(var['password'])\n",
    "time.sleep(1)"
   ]
  },
  {
   "cell_type": "code",
   "execution_count": 7,
   "id": "483ba474-8390-4544-89a9-36a1edd8580a",
   "metadata": {},
   "outputs": [],
   "source": [
    "driver.find_element(\n",
    "    \"xpath\", '//*[@id=\"organic-div\"]/form/div[3]/button').click()"
   ]
  },
  {
   "cell_type": "code",
   "execution_count": 8,
   "id": "5c392e51-9d0d-42f4-9097-beaa1dec48a8",
   "metadata": {},
   "outputs": [],
   "source": [
    "# go to job page, the url here is data scientist job posting. Replace with the job you want to scrape.\n",
    "driver.get(\"https://www.linkedin.com/jobs/search/?currentJobId=2903306264&f_E=2%2C3&f_JT=F&f_TPR=r604800&keywords=machine%20learning%20engineer&refresh=true\")"
   ]
  },
  {
   "cell_type": "code",
   "execution_count": 9,
   "id": "ec85c62b-aa84-4a13-aa02-033467961801",
   "metadata": {},
   "outputs": [
    {
     "name": "stdout",
     "output_type": "stream",
     "text": [
      "Links collecting now.\n"
     ]
    },
    {
     "name": "stderr",
     "output_type": "stream",
     "text": [
      "100%|██████████| 3/3 [00:18<00:00,  6.13s/it]"
     ]
    },
    {
     "name": "stdout",
     "output_type": "stream",
     "text": [
      "Found 73 links for job offers\n"
     ]
    },
    {
     "name": "stderr",
     "output_type": "stream",
     "text": [
      "\n"
     ]
    }
   ],
   "source": [
    "links = []\n",
    "print('Links collecting now.')\n",
    "try:\n",
    "    for page in tqdm(range(2, 5)): \n",
    "\n",
    "        jobs_block = driver.find_element(By.CLASS_NAME, 'jobs-search-results-list')\n",
    "        jobs_list = jobs_block.find_elements(By.CLASS_NAME, 'jobs-search-results__list-item')\n",
    "        for job in jobs_list:\n",
    "            all_links = job.find_elements(By.TAG_NAME, 'a')\n",
    "            for a in all_links:\n",
    "                if str(a.get_attribute('href')).startswith(\"https://www.linkedin.com/jobs/view\") and a.get_attribute('href') not in links:\n",
    "                    links.append(a.get_attribute('href'))\n",
    "                else:\n",
    "                    pass\n",
    "            driver.execute_script(\"arguments[0].scrollIntoView();\", job)\n",
    "        driver.find_element(\n",
    "            \"xpath\", f\"//button[@aria-label='Page {page}']\").click()\n",
    "except Exception:\n",
    "    traceback.print_exc()\n",
    "print('Found ' + str(len(links)) + ' links for job offers')"
   ]
  },
  {
   "cell_type": "code",
   "execution_count": 10,
   "id": "5e1b8e3b-306b-4a00-a066-78cfe7cc7c94",
   "metadata": {},
   "outputs": [
    {
     "name": "stderr",
     "output_type": "stream",
     "text": [
      "100%|██████████| 73/73 [07:10<00:00,  5.90s/it]\n"
     ]
    }
   ],
   "source": [
    "# Create empty lists to store information\n",
    "job_titles = []\n",
    "company_names = []\n",
    "company_locations = []\n",
    "work_methods = []\n",
    "post_dates = []\n",
    "work_times = []\n",
    "job_desc = []\n",
    "\n",
    "i = 0\n",
    "j = 1\n",
    "\n",
    "for url in tqdm(links):\n",
    "    time.sleep(1)\n",
    "    try:\n",
    "        driver.get(url)\n",
    "        driver.find_element(\n",
    "            \"xpath\", '/html/body/div[5]/div[3]/div/div[1]/div[1]/div/div[2]/footer').click()\n",
    "    except Exception:\n",
    "        pass\n",
    "    try:\n",
    "        driver.find_element(\n",
    "            \"xpath\", '/html/body/div[5]/div[3]/div/div[1]/div[1]/div/div[4]/footer').click()\n",
    "    except:\n",
    "        pass\n",
    "\n",
    "    try:\n",
    "        job_titles.append(driver.find_element(\n",
    "            \"xpath\", '/html/body/div[5]/div[3]/div/div[1]/div[1]/div/div[1]/div/div/div[1]/h1').text)\n",
    "    except Exception:\n",
    "        job_titles.append('unknown')\n",
    "    try:\n",
    "        company_names.append(driver.find_element(\n",
    "            \"xpath\", '/html/body/div[5]/div[3]/div/div[1]/div[1]/div/div[1]/div/div/div[1]/div[1]/span[1]/span[1]').text)\n",
    "    except Exception:\n",
    "        company_names.append('unknown')\n",
    "    try:\n",
    "        company_locations.append(driver.find_element(\n",
    "            \"xpath\", '/html/body/div[5]/div[3]/div/div[1]/div[1]/div/div[1]/div/div/div[1]/div[1]/span[1]/span[2]').text)\n",
    "    except Exception:\n",
    "        company_locations.append('unknown')\n",
    "    try:\n",
    "        work_methods.append(driver.find_element(\n",
    "            \"xpath\", '/html/body/div[5]/div[3]/div/div[1]/div[1]/div/div[1]/div/div/div[1]/div[1]/span[1]/span[3]').text)\n",
    "    except Exception:\n",
    "        work_methods.append('unknown')\n",
    "    try:\n",
    "        post_dates.append(driver.find_element(\n",
    "            \"xpath\", '/html/body/div[5]/div[3]/div/div[1]/div[1]/div/div[1]/div/div/div[1]/div[1]/span[2]/span[1]').text)\n",
    "    except Exception:\n",
    "        post_dates.append('unknown')\n",
    "    try:\n",
    "        work_times.append(driver.find_element(\n",
    "            \"xpath\", '/html/body/div[5]/div[3]/div/div[1]/div[1]/div/div[1]/div/div/div[1]/div[2]/ul/li[1]').text)\n",
    "    except Exception:\n",
    "        work_times.append('unknown')\n",
    "        \n",
    "    try:\n",
    "        job_description = driver.find_elements(\n",
    "            By.CLASS_NAME, 'jobs-description__content')\n",
    "        for description in job_description:\n",
    "            job_text = description.find_element(\n",
    "                By.CLASS_NAME, \"jobs-box__html-content\").text\n",
    "            job_desc.append(job_text)\n",
    "    except:\n",
    "        job_desc.append('No description found')\n",
    "\n",
    "    j += 1"
   ]
  },
  {
   "cell_type": "code",
   "execution_count": 11,
   "id": "db00cd7c-2aec-4cfb-a507-5d74eb228007",
   "metadata": {},
   "outputs": [],
   "source": [
    "df = pd.DataFrame(list(zip(job_titles, company_names,\n",
    "                           company_locations, work_methods,\n",
    "                           post_dates, work_times, links, job_desc)),\n",
    "                  columns=['job_title', 'company_name',\n",
    "                           'company_location', 'work_method',\n",
    "                           'post_date', 'work_time', 'job_links', 'job_desc'])\n"
   ]
  },
  {
   "cell_type": "code",
   "execution_count": 13,
   "id": "5ae0c076-e090-41f3-a5c6-3effe868f970",
   "metadata": {},
   "outputs": [],
   "source": [
    "d = {\"minutes ago\": 1,\"minute ago\": 1, \"hour ago\" : 60, \"hours ago\": 60,\"day ago\" : 3600,\"days ago\": 3600,\"week ago\": 4000,\"weeks ago\": 4500,\"unknown\":10000}\n",
    "df [\"sortvalue\"] = 1\n",
    "for i in range(len(df)):\n",
    "    x = df.iloc[i,4].split(\" \",1)\n",
    "    if (len(x)==1):\n",
    "        x[0] = 10000\n",
    "        x.append( \"unknown\")\n",
    "    df.iloc[i,-1] = int(x[0])*d[x[1]]\n",
    "\n",
    "df = df.sort_values('sortvalue')"
   ]
  },
  {
   "cell_type": "code",
   "execution_count": 17,
   "id": "05ea2a53-e64f-4738-8411-85051f651419",
   "metadata": {},
   "outputs": [],
   "source": [
    "with pd.ExcelWriter('../data/jobs.xlsx') as job :\n",
    "    for i in range(0,len(df),75):\n",
    "        df[i:i+75].to_excel(job, sheet_name='Sheet_' + str(i // 75))"
   ]
  },
  {
   "cell_type": "code",
   "execution_count": 18,
   "id": "a5503164-64f1-4e17-bafe-4405918d0c04",
   "metadata": {},
   "outputs": [
    {
     "data": {
      "text/html": [
       "<div>\n",
       "<style scoped>\n",
       "    .dataframe tbody tr th:only-of-type {\n",
       "        vertical-align: middle;\n",
       "    }\n",
       "\n",
       "    .dataframe tbody tr th {\n",
       "        vertical-align: top;\n",
       "    }\n",
       "\n",
       "    .dataframe thead th {\n",
       "        text-align: right;\n",
       "    }\n",
       "</style>\n",
       "<table border=\"1\" class=\"dataframe\">\n",
       "  <thead>\n",
       "    <tr style=\"text-align: right;\">\n",
       "      <th></th>\n",
       "      <th>job_title</th>\n",
       "      <th>company_name</th>\n",
       "      <th>company_location</th>\n",
       "      <th>work_method</th>\n",
       "      <th>post_date</th>\n",
       "      <th>work_time</th>\n",
       "      <th>job_links</th>\n",
       "      <th>job_desc</th>\n",
       "      <th>sortvalue</th>\n",
       "    </tr>\n",
       "  </thead>\n",
       "  <tbody>\n",
       "    <tr>\n",
       "      <th>3</th>\n",
       "      <td>Software Engineer</td>\n",
       "      <td>AstraZeneca</td>\n",
       "      <td>Gaithersburg, MD</td>\n",
       "      <td>unknown</td>\n",
       "      <td>2 hours ago</td>\n",
       "      <td>Full-time · Associate</td>\n",
       "      <td>https://www.linkedin.com/jobs/view/3574907169/...</td>\n",
       "      <td>About the job\\nAre you experienced in, and pas...</td>\n",
       "      <td>120</td>\n",
       "    </tr>\n",
       "    <tr>\n",
       "      <th>33</th>\n",
       "      <td>Software Engineer, Web</td>\n",
       "      <td>Cboe Global Markets</td>\n",
       "      <td>Chicago, IL</td>\n",
       "      <td>unknown</td>\n",
       "      <td>2 hours ago</td>\n",
       "      <td>$105,000/yr - $158,700/yr (from job descriptio...</td>\n",
       "      <td>https://www.linkedin.com/jobs/view/3572517162/...</td>\n",
       "      <td>About the job\\nJob Description\\n\\nWhat We Do\\n...</td>\n",
       "      <td>120</td>\n",
       "    </tr>\n",
       "    <tr>\n",
       "      <th>12</th>\n",
       "      <td>AI &amp; HPC Application Engineer</td>\n",
       "      <td>Inspur Systems</td>\n",
       "      <td>Fremont, CA</td>\n",
       "      <td>On-site</td>\n",
       "      <td>3 hours ago</td>\n",
       "      <td>Full-time · Entry level</td>\n",
       "      <td>https://www.linkedin.com/jobs/view/3570835228/...</td>\n",
       "      <td>About the job\\nInspur Systems Inc., located in...</td>\n",
       "      <td>180</td>\n",
       "    </tr>\n",
       "    <tr>\n",
       "      <th>27</th>\n",
       "      <td>Research Software Engineer, AI</td>\n",
       "      <td>Spotter</td>\n",
       "      <td>Los Angeles, CA</td>\n",
       "      <td>Hybrid</td>\n",
       "      <td>4 hours ago</td>\n",
       "      <td>Full-time · Entry level</td>\n",
       "      <td>https://www.linkedin.com/jobs/view/3574578027/...</td>\n",
       "      <td>About the job\\nOverview\\n\\nSpotter empowers to...</td>\n",
       "      <td>240</td>\n",
       "    </tr>\n",
       "    <tr>\n",
       "      <th>5</th>\n",
       "      <td>Algorithm Engineer</td>\n",
       "      <td>neuro42</td>\n",
       "      <td>San Francisco Bay Area</td>\n",
       "      <td>On-site</td>\n",
       "      <td>4 hours ago</td>\n",
       "      <td>Full-time</td>\n",
       "      <td>https://www.linkedin.com/jobs/view/3577987482/...</td>\n",
       "      <td>About the job\\nThe next evolution of MRI is he...</td>\n",
       "      <td>240</td>\n",
       "    </tr>\n",
       "  </tbody>\n",
       "</table>\n",
       "</div>"
      ],
      "text/plain": [
       "                         job_title         company_name  \\\n",
       "3                Software Engineer          AstraZeneca   \n",
       "33          Software Engineer, Web  Cboe Global Markets   \n",
       "12   AI & HPC Application Engineer       Inspur Systems   \n",
       "27  Research Software Engineer, AI              Spotter   \n",
       "5               Algorithm Engineer              neuro42   \n",
       "\n",
       "          company_location work_method    post_date  \\\n",
       "3         Gaithersburg, MD     unknown  2 hours ago   \n",
       "33             Chicago, IL     unknown  2 hours ago   \n",
       "12             Fremont, CA     On-site  3 hours ago   \n",
       "27         Los Angeles, CA      Hybrid  4 hours ago   \n",
       "5   San Francisco Bay Area     On-site  4 hours ago   \n",
       "\n",
       "                                            work_time  \\\n",
       "3                               Full-time · Associate   \n",
       "33  $105,000/yr - $158,700/yr (from job descriptio...   \n",
       "12                            Full-time · Entry level   \n",
       "27                            Full-time · Entry level   \n",
       "5                                           Full-time   \n",
       "\n",
       "                                            job_links  \\\n",
       "3   https://www.linkedin.com/jobs/view/3574907169/...   \n",
       "33  https://www.linkedin.com/jobs/view/3572517162/...   \n",
       "12  https://www.linkedin.com/jobs/view/3570835228/...   \n",
       "27  https://www.linkedin.com/jobs/view/3574578027/...   \n",
       "5   https://www.linkedin.com/jobs/view/3577987482/...   \n",
       "\n",
       "                                             job_desc  sortvalue  \n",
       "3   About the job\\nAre you experienced in, and pas...        120  \n",
       "33  About the job\\nJob Description\\n\\nWhat We Do\\n...        120  \n",
       "12  About the job\\nInspur Systems Inc., located in...        180  \n",
       "27  About the job\\nOverview\\n\\nSpotter empowers to...        240  \n",
       "5   About the job\\nThe next evolution of MRI is he...        240  "
      ]
     },
     "execution_count": 18,
     "metadata": {},
     "output_type": "execute_result"
    }
   ],
   "source": [
    "df.head()"
   ]
  },
  {
   "cell_type": "code",
   "execution_count": null,
   "id": "133c4f14-b4bd-4408-9da6-b66d4b01768a",
   "metadata": {},
   "outputs": [],
   "source": []
  }
 ],
 "metadata": {
  "kernelspec": {
   "display_name": "Python 3 (ipykernel)",
   "language": "python",
   "name": "python3"
  },
  "language_info": {
   "codemirror_mode": {
    "name": "ipython",
    "version": 3
   },
   "file_extension": ".py",
   "mimetype": "text/x-python",
   "name": "python",
   "nbconvert_exporter": "python",
   "pygments_lexer": "ipython3",
   "version": "3.9.13"
  }
 },
 "nbformat": 4,
 "nbformat_minor": 5
}
